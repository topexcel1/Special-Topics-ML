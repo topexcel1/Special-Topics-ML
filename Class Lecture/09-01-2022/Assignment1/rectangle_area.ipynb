{
 "cells": [
  {
   "cell_type": "code",
   "execution_count": 2,
   "metadata": {},
   "outputs": [],
   "source": [
    "import math\n",
    "import numpy as np\n",
    "import matplotlib as plt"
   ]
  },
  {
   "cell_type": "markdown",
   "metadata": {},
   "source": [
    "/*\n",
    "Find the area of the rectangle\n",
    "\n",
    "\n",
    "*/"
   ]
  },
  {
   "cell_type": "code",
   "execution_count": 13,
   "metadata": {},
   "outputs": [],
   "source": [
    "def area_of_rectangle(length, width):\n",
    "    area = length * width\n",
    "    return area"
   ]
  },
  {
   "cell_type": "code",
   "execution_count": 39,
   "metadata": {},
   "outputs": [],
   "source": [
    "def quad_coeff(Length, width, area_goal):\n",
    "    length = float(Length)\n",
    "    width = float(width)\n",
    "    rect_area = area_of_rectangle(Length,width)\n",
    "    if area_goal == 2:\n",
    "        newArea = 2*rect_area\n",
    "    elif area_goal == 3:\n",
    "        newArea = 3*rect_area\n",
    "    else:\n",
    "        print(\"It is beyond the scope of our operation\")\n",
    "    a = 4.0 #This will always be constant for the coefficient\n",
    "    b = 2 * (Length + width)\n",
    "    c = width*length - newArea\n",
    "    return a,b,c\n"
   ]
  },
  {
   "cell_type": "code",
   "execution_count": 31,
   "metadata": {},
   "outputs": [],
   "source": [
    "def general_formula(a, b, c):\n",
    "    determinant = b**2 - 4*a*c\n",
    "    if(determinant >= 0):\n",
    "        sol1 = (-b + math.sqrt(determinant))/(2*a)\n",
    "        sol2 = (-b - math.sqrt(determinant))/(2*a)\n",
    "        print(\"The equation has two real solution {} and {} \\n\".format(sol1,sol2))\n",
    "    else:\n",
    "        print(\"The equation has non real solution \\n\")\n",
    "    return sol1, sol2"
   ]
  },
  {
   "cell_type": "code",
   "execution_count": 45,
   "metadata": {},
   "outputs": [
    {
     "name": "stdout",
     "output_type": "stream",
     "text": [
      "The equation has two real solution 4.430004681646913 and -16.930004681646913 \n",
      "\n",
      "The area 150.0 is Triple and the coefficient are a = 4.0, b = 50.0, c = -300.0\n",
      "the solution is x = 4.430004681646913 and area = 300.0\n",
      "The new length = 18.860009363293827 and width = 23.860009363293827\n"
     ]
    }
   ],
   "source": [
    "answer_question = input(\"Please enter Yes for start: \")\n",
    "while (answer_question == \"Yes\"):\n",
    "    length, width = input(\"Please enter the length and width of the rectangle: \" ).split()\n",
    "    rect_area = area_of_rectangle(float(length), float(width))\n",
    "    #print(\"Please select your operation whether you want to double or triple your area\")\n",
    "    area_goal = int(input(\"please enter 2 for double or 3 for triple: \"))\n",
    "    if area_goal == 2:\n",
    "        a,b,c = quad_coeff(float(length), float(width), area_goal)\n",
    "        sol1, sol2 = general_formula(a,b,c)\n",
    "        new_coeff = max(sol1, sol2)\n",
    "        dArea = 2 * rect_area\n",
    "        Nlen = float(length) + 2*(new_coeff)\n",
    "        Nwid = float(width) + 2*(new_coeff)\n",
    "        print(\"The area {} is double and the poly coefficient are a = {}, b = {}, c = {}\".format(rect_area,a,b,c))\n",
    "        print(\"the solution is x = {} and the new Area = {}\".format(new_coeff,dArea))\n",
    "        print(\"The new length = {} and width = {}\".format(Nlen,Nwid))\n",
    "    elif area_goal == 3:\n",
    "        a,b,c = quad_coeff(float(length), float(width), area_goal)\n",
    "        sol1, sol2 = general_formula(a,b,c)\n",
    "        new_coeff = max(sol1, sol2)\n",
    "        tArea = 2 * rect_area\n",
    "        Nlen = float(length) + 2*(new_coeff)\n",
    "        Nwid = float(width) + 2*(new_coeff)\n",
    "        print(\"The area {} is Triple and the coefficient are a = {}, b = {}, c = {}\".format(rect_area,a,b,c))\n",
    "        print(\"the solution is x = {} and area = {}\".format(new_coeff,tArea))\n",
    "        print(\"The new length = {} and width = {}\".format(Nlen,Nwid))\n",
    "    else:\n",
    "        print(\"It is beyond the scope of our operation\")\n",
    "\n",
    "    answer_question = input(\"Do you want to continue Y for Yes and N for No\")"
   ]
  },
  {
   "cell_type": "code",
   "execution_count": null,
   "metadata": {},
   "outputs": [],
   "source": []
  }
 ],
 "metadata": {
  "interpreter": {
   "hash": "aee8b7b246df8f9039afb4144a1f6fd8d2ca17a180786b69acc140d282b71a49"
  },
  "kernelspec": {
   "display_name": "Python 3.10.6 64-bit",
   "language": "python",
   "name": "python3"
  },
  "language_info": {
   "codemirror_mode": {
    "name": "ipython",
    "version": 3
   },
   "file_extension": ".py",
   "mimetype": "text/x-python",
   "name": "python",
   "nbconvert_exporter": "python",
   "pygments_lexer": "ipython3",
   "version": "3.10.6"
  },
  "orig_nbformat": 4
 },
 "nbformat": 4,
 "nbformat_minor": 2
}
