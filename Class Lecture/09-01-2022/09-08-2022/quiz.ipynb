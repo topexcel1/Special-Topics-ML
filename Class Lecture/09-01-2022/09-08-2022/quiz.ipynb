{
 "cells": [
  {
   "cell_type": "markdown",
   "metadata": {},
   "source": [
    "Class quiz and Triangle"
   ]
  },
  {
   "cell_type": "code",
   "execution_count": 2,
   "metadata": {},
   "outputs": [],
   "source": [
    "import math\n",
    "import numpy as np\n",
    "import matplotlib.pyplot as plt"
   ]
  },
  {
   "cell_type": "code",
   "execution_count": 3,
   "metadata": {},
   "outputs": [],
   "source": [
    "class Triangle:\n",
    "    def __init__(self, a, b, c):\n",
    "        self.a = a #where a is the length of a side\n",
    "        self.b = b #where b is the length of a side\n",
    "        self.c = c #where c is the length of a side\n",
    "    def Areac(self):\n",
    "        s = (self.a + self.b + self.c)/2\n",
    "        inte = s*(s - self.a)*(s - self.b)*(s - self.c)\n",
    "        Area_calc = math.sqrt(inte)\n",
    "        return Area_calc\n",
    "    def Perimeterc(self):\n",
    "        peri = self.a +self.b+self.c\n",
    "        return peri\n",
    "    def Angle(self):\n",
    "        determinantc = 2 * self.a * self.b\n",
    "        C_num = math.pow(self.a, 2) + math.pow(self.b, 2) - math.pow(self.c, 2)\n",
    "        C_angle_n = C_num/determinantc\n",
    "        anglec = math.acos(C_angle_n)\n",
    "        determinantb = 2 * self.c * self.a\n",
    "        B_num = math.pow(self.c, 2) + math.pow(self.a, 2) - math.pow(self.b, 2)\n",
    "        B_angle = B_num/determinantb\n",
    "        angleb = math.acos(B_angle)\n",
    "        determinanta = 2 * self.c * self.b\n",
    "        A_num = math.pow(self.c, 2) + math.pow(self.b, 2) - math.pow(self.a, 2)\n",
    "        A_angle = A_num/determinanta\n",
    "        angleA = math.acos(A_angle)\n",
    "        return angleA, angleb, anglec\n",
    "\n"
   ]
  },
  {
   "cell_type": "code",
   "execution_count": 4,
   "metadata": {},
   "outputs": [
    {
     "name": "stdout",
     "output_type": "stream",
     "text": [
      "The area of the triangle is 6.0\n",
      "The Perimeter of the triangle is 12.0\n",
      "The angles of the triangle are A = 0.6435011087932843, B = 0.9272952180016123, C = 1.5707963267948966\n"
     ]
    }
   ],
   "source": [
    "answer_quest = \"yes\"\n",
    "while(answer_quest == \"yes\"):\n",
    "    a, b, c = input(\"Please type the side of your angle: \").split()\n",
    "    a = float(a)\n",
    "    b = float(b)\n",
    "    c = float(c)\n",
    "    trian = Triangle(a,b,c)\n",
    "    peri_ta = trian.Perimeterc()\n",
    "    A,B,C = trian.Angle()\n",
    "    Area_cal = trian.Areac()\n",
    "    print(\"The area of the triangle is {}\".format(Area_cal))\n",
    "    print(\"The Perimeter of the triangle is {}\".format(peri_ta))\n",
    "    print(\"The angles of the triangle are A = {}, B = {}, C = {}\".format(A,B,C))\n",
    "\n",
    "\n",
    "    answer_quest = input(\"\\nDo you want to keep using the application? \")"
   ]
  },
  {
   "cell_type": "code",
   "execution_count": null,
   "metadata": {},
   "outputs": [],
   "source": []
  }
 ],
 "metadata": {
  "interpreter": {
   "hash": "aee8b7b246df8f9039afb4144a1f6fd8d2ca17a180786b69acc140d282b71a49"
  },
  "kernelspec": {
   "display_name": "Python 3.10.6 64-bit",
   "language": "python",
   "name": "python3"
  },
  "language_info": {
   "codemirror_mode": {
    "name": "ipython",
    "version": 3
   },
   "file_extension": ".py",
   "mimetype": "text/x-python",
   "name": "python",
   "nbconvert_exporter": "python",
   "pygments_lexer": "ipython3",
   "version": "3.10.6"
  },
  "orig_nbformat": 4
 },
 "nbformat": 4,
 "nbformat_minor": 2
}
